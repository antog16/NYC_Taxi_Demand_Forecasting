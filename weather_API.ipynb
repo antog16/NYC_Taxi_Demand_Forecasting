{
 "cells": [
  {
   "cell_type": "code",
   "execution_count": 1,
   "id": "065bd51f-cf4a-49d6-a618-34b53e161c8e",
   "metadata": {},
   "outputs": [
    {
     "name": "stdout",
     "output_type": "stream",
     "text": [
      "Coordinates 40.808433532714844°N -74.0198974609375°E\n",
      "Elevation 45.0 m asl\n",
      "Timezone NoneNone\n",
      "Timezone difference to GMT+0 0 s\n",
      "                           date  temperature_2m  precipitation  rain  \\\n",
      "0     2022-01-01 00:00:00+00:00          8.3005            0.0   0.0   \n",
      "1     2022-01-01 01:00:00+00:00          9.0005            0.0   0.0   \n",
      "2     2022-01-01 02:00:00+00:00          8.2505            0.0   0.0   \n",
      "3     2022-01-01 03:00:00+00:00          7.9005            0.0   0.0   \n",
      "4     2022-01-01 04:00:00+00:00          7.7505            0.0   0.0   \n",
      "...                         ...             ...            ...   ...   \n",
      "27067 2025-02-01 19:00:00+00:00         -0.2495            0.0   0.0   \n",
      "27068 2025-02-01 20:00:00+00:00         -0.6495            0.0   0.0   \n",
      "27069 2025-02-01 21:00:00+00:00         -1.5995            0.0   0.0   \n",
      "27070 2025-02-01 22:00:00+00:00         -3.0995            0.0   0.0   \n",
      "27071 2025-02-01 23:00:00+00:00         -4.4995            0.0   0.0   \n",
      "\n",
      "       snowfall  snow_depth  wind_speed_10m  \n",
      "0           0.0        0.00        3.545589  \n",
      "1           0.0        0.00        6.569383  \n",
      "2           0.0        0.00        6.120000  \n",
      "3           0.0        0.00        4.693825  \n",
      "4           0.0        0.00        3.396233  \n",
      "...         ...         ...             ...  \n",
      "27067       0.0        0.01       16.104719  \n",
      "27068       0.0        0.01       15.589497  \n",
      "27069       0.0        0.01       17.224598  \n",
      "27070       0.0        0.01       17.176563  \n",
      "27071       0.0        0.01       17.873556  \n",
      "\n",
      "[27072 rows x 7 columns]\n"
     ]
    }
   ],
   "source": [
    "import openmeteo_requests\n",
    "\n",
    "import requests_cache\n",
    "import pandas as pd\n",
    "from retry_requests import retry\n",
    "\n",
    "# Setup the Open-Meteo API client with cache and retry on error\n",
    "cache_session = requests_cache.CachedSession('.cache', expire_after = -1)\n",
    "retry_session = retry(cache_session, retries = 5, backoff_factor = 0.2)\n",
    "openmeteo = openmeteo_requests.Client(session = retry_session)\n",
    "\n",
    "# Make sure all required weather variables are listed here\n",
    "# The order of variables in hourly or daily is important to assign them correctly below\n",
    "url = \"https://archive-api.open-meteo.com/v1/archive\"\n",
    "params = {\n",
    "\t\"latitude\": 40.7834,\n",
    "\t\"longitude\": -73.9663,\n",
    "\t\"start_date\": \"2022-01-01\",\n",
    "\t\"end_date\": \"2025-02-01\",\n",
    "\t\"hourly\": [\"temperature_2m\", \"precipitation\", \"rain\", \"snowfall\", \"snow_depth\", \"wind_speed_10m\"]\n",
    "}\n",
    "responses = openmeteo.weather_api(url, params=params)\n",
    "\n",
    "# Process first location. Add a for-loop for multiple locations or weather models\n",
    "response = responses[0]\n",
    "print(f\"Coordinates {response.Latitude()}°N {response.Longitude()}°E\")\n",
    "print(f\"Elevation {response.Elevation()} m asl\")\n",
    "print(f\"Timezone {response.Timezone()}{response.TimezoneAbbreviation()}\")\n",
    "print(f\"Timezone difference to GMT+0 {response.UtcOffsetSeconds()} s\")\n",
    "\n",
    "# Process hourly data. The order of variables needs to be the same as requested.\n",
    "hourly = response.Hourly()\n",
    "hourly_temperature_2m = hourly.Variables(0).ValuesAsNumpy()\n",
    "hourly_precipitation = hourly.Variables(1).ValuesAsNumpy()\n",
    "hourly_rain = hourly.Variables(2).ValuesAsNumpy()\n",
    "hourly_snowfall = hourly.Variables(3).ValuesAsNumpy()\n",
    "hourly_snow_depth = hourly.Variables(4).ValuesAsNumpy()\n",
    "hourly_wind_speed_10m = hourly.Variables(5).ValuesAsNumpy()\n",
    "\n",
    "hourly_data = {\"date\": pd.date_range(\n",
    "\tstart = pd.to_datetime(hourly.Time(), unit = \"s\", utc = True),\n",
    "\tend = pd.to_datetime(hourly.TimeEnd(), unit = \"s\", utc = True),\n",
    "\tfreq = pd.Timedelta(seconds = hourly.Interval()),\n",
    "\tinclusive = \"left\"\n",
    ")}\n",
    "\n",
    "hourly_data[\"temperature_2m\"] = hourly_temperature_2m\n",
    "hourly_data[\"precipitation\"] = hourly_precipitation\n",
    "hourly_data[\"rain\"] = hourly_rain\n",
    "hourly_data[\"snowfall\"] = hourly_snowfall\n",
    "hourly_data[\"snow_depth\"] = hourly_snow_depth\n",
    "hourly_data[\"wind_speed_10m\"] = hourly_wind_speed_10m\n",
    "\n",
    "hourly_dataframe = pd.DataFrame(data = hourly_data)\n",
    "print(hourly_dataframe)"
   ]
  },
  {
   "cell_type": "code",
   "execution_count": 3,
   "id": "da20d927-0d64-4a2a-9722-bd31ab29d8e0",
   "metadata": {},
   "outputs": [],
   "source": [
    "import datetime as dt"
   ]
  },
  {
   "cell_type": "code",
   "execution_count": 5,
   "id": "4963610e-fce7-4c4c-85a1-01bcbd90e1af",
   "metadata": {},
   "outputs": [],
   "source": [
    "hourly_dataframe[\"date\"] = hourly_dataframe[\"date\"].apply(lambda x: x.tz_convert(None))"
   ]
  },
  {
   "cell_type": "code",
   "execution_count": 13,
   "id": "974af3e6-6f97-4514-bd4a-28973e0421eb",
   "metadata": {},
   "outputs": [],
   "source": [
    "hourly_dataframe.to_csv(\"data/weather_test.csv\")"
   ]
  },
  {
   "cell_type": "code",
   "execution_count": null,
   "id": "3ebd97bc-443b-46a5-bb81-430470af566f",
   "metadata": {},
   "outputs": [],
   "source": []
  }
 ],
 "metadata": {
  "kernelspec": {
   "display_name": "Python [conda env:base] *",
   "language": "python",
   "name": "conda-base-py"
  },
  "language_info": {
   "codemirror_mode": {
    "name": "ipython",
    "version": 3
   },
   "file_extension": ".py",
   "mimetype": "text/x-python",
   "name": "python",
   "nbconvert_exporter": "python",
   "pygments_lexer": "ipython3",
   "version": "3.12.7"
  }
 },
 "nbformat": 4,
 "nbformat_minor": 5
}
