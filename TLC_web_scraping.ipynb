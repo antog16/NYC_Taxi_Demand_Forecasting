{
 "cells": [
  {
   "cell_type": "code",
   "execution_count": 2,
   "id": "783cb15f-8ef1-4d3e-a9a4-5de41410b594",
   "metadata": {},
   "outputs": [],
   "source": [
    "import requests\n",
    "from bs4 import BeautifulSoup\n",
    "import pandas as pd\n",
    "import numpy as np\n",
    "import os\n",
    "import urllib.request\n",
    "import glob\n",
    "import re\n",
    "import calendar\n",
    "import datetime"
   ]
  },
  {
   "cell_type": "code",
   "execution_count": 9,
   "id": "436f3a82-f0f5-4abd-ae92-ea060145078a",
   "metadata": {},
   "outputs": [],
   "source": [
    "url = \"https://www.nyc.gov/site/tlc/about/tlc-trip-record-data.page\"\n",
    "response = requests.get(url)\n",
    "bool(response)\n",
    "soup = BeautifulSoup(response.text, \"html.parser\")"
   ]
  },
  {
   "cell_type": "code",
   "execution_count": 10,
   "id": "bb179dac-a76b-4a65-b1e6-45db70e78d23",
   "metadata": {},
   "outputs": [],
   "source": [
    "tables = soup.find_all(\"div\", attrs={\"class\":\"faq-answers\"})"
   ]
  },
  {
   "cell_type": "code",
   "execution_count": 11,
   "id": "86a2be19-4534-4811-9db5-c1459ed0656c",
   "metadata": {},
   "outputs": [],
   "source": [
    "to_download = []\n",
    "for table in tables:\n",
    "    if table.get(\"id\") in [\"faq2025\", \"faq2024\", \"faq2023\", \"faq2022\"]:\n",
    "        links = table.find_all(\"a\")\n",
    "        for link in links:\n",
    "            if link.text == \"Yellow Taxi Trip Records\" :\n",
    "                to_download.append(link.get(\"href\"))"
   ]
  },
  {
   "cell_type": "code",
   "execution_count": 12,
   "id": "d89dabe6-2a8c-436d-826f-c041c0b1467f",
   "metadata": {},
   "outputs": [],
   "source": [
    "DOWNLOADS_DIR = 'C:/Users/Acer/Desktop/Bootcamp/Proyecto/data/taxis'\n",
    "\n",
    "for url in to_download:\n",
    "    name = url.rsplit('/', 1)[-1]\n",
    "\n",
    "    # Combine the name and the downloads directory to get the local filename\n",
    "    filename = os.path.join(DOWNLOADS_DIR, name)\n",
    "    \n",
    "    # Download the file if it does not exist\n",
    "    if not os.path.isfile(filename):\n",
    "        urllib.request.urlretrieve(url, filename)"
   ]
  }
 ],
 "metadata": {
  "kernelspec": {
   "display_name": "Python [conda env:base] *",
   "language": "python",
   "name": "conda-base-py"
  },
  "language_info": {
   "codemirror_mode": {
    "name": "ipython",
    "version": 3
   },
   "file_extension": ".py",
   "mimetype": "text/x-python",
   "name": "python",
   "nbconvert_exporter": "python",
   "pygments_lexer": "ipython3",
   "version": "3.12.7"
  }
 },
 "nbformat": 4,
 "nbformat_minor": 5
}
