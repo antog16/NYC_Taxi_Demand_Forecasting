{
 "cells": [
  {
   "cell_type": "code",
   "execution_count": 176,
   "id": "4cf700a2-35d0-4d58-8cd7-4ceb08951c91",
   "metadata": {},
   "outputs": [],
   "source": [
    "import pandas as pd\n"
   ]
  },
  {
   "cell_type": "code",
   "execution_count": 193,
   "id": "d2f9b92b-fb8e-4132-a2dd-df2f391b1ee9",
   "metadata": {},
   "outputs": [],
   "source": [
    "trip_data = pd.read_parquet(\"data/merged_dataset.parquet\")"
   ]
  },
  {
   "cell_type": "code",
   "execution_count": 195,
   "id": "2adf5a6a-00f5-4d98-ad5c-5a785072e12e",
   "metadata": {},
   "outputs": [
    {
     "data": {
      "text/plain": [
       "(67,)"
      ]
     },
     "execution_count": 195,
     "metadata": {},
     "output_type": "execute_result"
    }
   ],
   "source": [
    "trip_data.PULocationID.unique().shape"
   ]
  },
  {
   "cell_type": "code",
   "execution_count": 197,
   "id": "15a9fc4e-0d8a-4ec0-8f4d-7c937dc65a54",
   "metadata": {},
   "outputs": [
    {
     "data": {
      "text/plain": [
       "(1563424, 3)"
      ]
     },
     "execution_count": 197,
     "metadata": {},
     "output_type": "execute_result"
    }
   ],
   "source": [
    "trip_data.shape"
   ]
  },
  {
   "cell_type": "code",
   "execution_count": 199,
   "id": "64cae244-a1c4-430c-afe6-dc4efe5eedbf",
   "metadata": {},
   "outputs": [
    {
     "data": {
      "text/html": [
       "<div>\n",
       "<style scoped>\n",
       "    .dataframe tbody tr th:only-of-type {\n",
       "        vertical-align: middle;\n",
       "    }\n",
       "\n",
       "    .dataframe tbody tr th {\n",
       "        vertical-align: top;\n",
       "    }\n",
       "\n",
       "    .dataframe thead th {\n",
       "        text-align: right;\n",
       "    }\n",
       "</style>\n",
       "<table border=\"1\" class=\"dataframe\">\n",
       "  <thead>\n",
       "    <tr style=\"text-align: right;\">\n",
       "      <th></th>\n",
       "      <th>tpep_pickup_hour</th>\n",
       "      <th>PULocationID</th>\n",
       "      <th>Total_Trips</th>\n",
       "    </tr>\n",
       "  </thead>\n",
       "  <tbody>\n",
       "    <tr>\n",
       "      <th>0</th>\n",
       "      <td>2022-01-01 00:00:00</td>\n",
       "      <td>4</td>\n",
       "      <td>11</td>\n",
       "    </tr>\n",
       "    <tr>\n",
       "      <th>1</th>\n",
       "      <td>2022-01-01 00:00:00</td>\n",
       "      <td>12</td>\n",
       "      <td>2</td>\n",
       "    </tr>\n",
       "    <tr>\n",
       "      <th>2</th>\n",
       "      <td>2022-01-01 00:00:00</td>\n",
       "      <td>13</td>\n",
       "      <td>12</td>\n",
       "    </tr>\n",
       "    <tr>\n",
       "      <th>3</th>\n",
       "      <td>2022-01-01 00:00:00</td>\n",
       "      <td>24</td>\n",
       "      <td>11</td>\n",
       "    </tr>\n",
       "    <tr>\n",
       "      <th>4</th>\n",
       "      <td>2022-01-01 00:00:00</td>\n",
       "      <td>41</td>\n",
       "      <td>12</td>\n",
       "    </tr>\n",
       "    <tr>\n",
       "      <th>...</th>\n",
       "      <td>...</td>\n",
       "      <td>...</td>\n",
       "      <td>...</td>\n",
       "    </tr>\n",
       "    <tr>\n",
       "      <th>1563419</th>\n",
       "      <td>2025-01-31 23:00:00</td>\n",
       "      <td>249</td>\n",
       "      <td>568</td>\n",
       "    </tr>\n",
       "    <tr>\n",
       "      <th>1563420</th>\n",
       "      <td>2025-01-31 23:00:00</td>\n",
       "      <td>261</td>\n",
       "      <td>35</td>\n",
       "    </tr>\n",
       "    <tr>\n",
       "      <th>1563421</th>\n",
       "      <td>2025-01-31 23:00:00</td>\n",
       "      <td>262</td>\n",
       "      <td>29</td>\n",
       "    </tr>\n",
       "    <tr>\n",
       "      <th>1563422</th>\n",
       "      <td>2025-01-31 23:00:00</td>\n",
       "      <td>263</td>\n",
       "      <td>133</td>\n",
       "    </tr>\n",
       "    <tr>\n",
       "      <th>1563423</th>\n",
       "      <td>2025-02-01 00:00:00</td>\n",
       "      <td>113</td>\n",
       "      <td>1</td>\n",
       "    </tr>\n",
       "  </tbody>\n",
       "</table>\n",
       "<p>1563424 rows × 3 columns</p>\n",
       "</div>"
      ],
      "text/plain": [
       "           tpep_pickup_hour  PULocationID  Total_Trips\n",
       "0       2022-01-01 00:00:00             4           11\n",
       "1       2022-01-01 00:00:00            12            2\n",
       "2       2022-01-01 00:00:00            13           12\n",
       "3       2022-01-01 00:00:00            24           11\n",
       "4       2022-01-01 00:00:00            41           12\n",
       "...                     ...           ...          ...\n",
       "1563419 2025-01-31 23:00:00           249          568\n",
       "1563420 2025-01-31 23:00:00           261           35\n",
       "1563421 2025-01-31 23:00:00           262           29\n",
       "1563422 2025-01-31 23:00:00           263          133\n",
       "1563423 2025-02-01 00:00:00           113            1\n",
       "\n",
       "[1563424 rows x 3 columns]"
      ]
     },
     "execution_count": 199,
     "metadata": {},
     "output_type": "execute_result"
    }
   ],
   "source": [
    "trip_data"
   ]
  },
  {
   "cell_type": "code",
   "execution_count": 201,
   "id": "f9d31f5a-a621-4434-a01f-47df2921b885",
   "metadata": {},
   "outputs": [
    {
     "name": "stderr",
     "output_type": "stream",
     "text": [
      "C:\\Users\\Acer\\AppData\\Local\\Temp\\ipykernel_9596\\807919656.py:7: SettingWithCopyWarning: \n",
      "A value is trying to be set on a copy of a slice from a DataFrame.\n",
      "Try using .loc[row_indexer,col_indexer] = value instead\n",
      "\n",
      "See the caveats in the documentation: https://pandas.pydata.org/pandas-docs/stable/user_guide/indexing.html#returning-a-view-versus-a-copy\n",
      "  zones['key'] = 0\n"
     ]
    }
   ],
   "source": [
    "full_timeframe = pd.DataFrame(trip_data.tpep_pickup_hour.unique())\n",
    "taxi_zones = pd.read_csv(\"data/taxi_zones/taxi_zone_lookup.csv\")\n",
    "manhattan_taxi_zones = taxi_zones[taxi_zones[\"Borough\"]==\"Manhattan\"]\n",
    "zones = manhattan_taxi_zones[[\"LocationID\"]]\n",
    "\n",
    "full_timeframe['key'] = 0\n",
    "zones['key'] = 0\n",
    "\n",
    "#outer merge on common key (e.g. a cross join)\n",
    "full_timeframe_table = full_timeframe.merge(zones, on='key').drop('key', axis=1)\n",
    "full_timeframe_table = full_timeframe_table.rename(columns={0:\"tpep_pickup_hour\"})"
   ]
  },
  {
   "cell_type": "code",
   "execution_count": 203,
   "id": "7ffea414-0bf6-477d-a8f5-4dbf4ef7f721",
   "metadata": {},
   "outputs": [],
   "source": [
    "trip_data = trip_data.rename(columns={\"PULocationID\":\"LocationID\"})"
   ]
  },
  {
   "cell_type": "code",
   "execution_count": 205,
   "id": "b0280636-5fef-42c7-bc3a-67d851561532",
   "metadata": {},
   "outputs": [],
   "source": [
    "final_table = full_timeframe_table.merge(trip_data, on = [\"tpep_pickup_hour\",\"LocationID\"], how=\"left\")"
   ]
  },
  {
   "cell_type": "code",
   "execution_count": 207,
   "id": "c408754e-6043-4ef4-82a1-88207c1e77b6",
   "metadata": {},
   "outputs": [],
   "source": [
    "final_table =final_table.loc[final_table[\"tpep_pickup_hour\"]<=\"2025-01-31 23:00:00\"]"
   ]
  },
  {
   "cell_type": "code",
   "execution_count": 209,
   "id": "bcaefa7c-b9e7-49bc-b00f-3e4bd2a343bf",
   "metadata": {},
   "outputs": [],
   "source": [
    "weather_data = pd.read_csv(\"data/weather_data/weather_test.csv\")"
   ]
  },
  {
   "cell_type": "code",
   "execution_count": 211,
   "id": "7aeddd90-6fa5-43cb-a4f8-c5cc2affe920",
   "metadata": {},
   "outputs": [],
   "source": [
    "weather_data[\"date\"] = pd.to_datetime(weather_data[\"date\"])"
   ]
  },
  {
   "cell_type": "code",
   "execution_count": 213,
   "id": "975ff163-2f13-4212-8bde-73b99d9e5276",
   "metadata": {},
   "outputs": [],
   "source": [
    "final_table = final_table.merge(weather_data, left_on=\"tpep_pickup_hour\", right_on =\"date\", how=\"left\")"
   ]
  },
  {
   "cell_type": "code",
   "execution_count": 215,
   "id": "b92cbad9-35b1-4ca7-8da6-a8982c7676d2",
   "metadata": {},
   "outputs": [],
   "source": [
    "final_table = final_table.drop(columns=[\"date\",\"Unnamed: 0\"])"
   ]
  },
  {
   "cell_type": "code",
   "execution_count": 217,
   "id": "324fe418-84fb-4bf9-8c74-2789ffca2c25",
   "metadata": {},
   "outputs": [
    {
     "data": {
      "text/html": [
       "<div>\n",
       "<style scoped>\n",
       "    .dataframe tbody tr th:only-of-type {\n",
       "        vertical-align: middle;\n",
       "    }\n",
       "\n",
       "    .dataframe tbody tr th {\n",
       "        vertical-align: top;\n",
       "    }\n",
       "\n",
       "    .dataframe thead th {\n",
       "        text-align: right;\n",
       "    }\n",
       "</style>\n",
       "<table border=\"1\" class=\"dataframe\">\n",
       "  <thead>\n",
       "    <tr style=\"text-align: right;\">\n",
       "      <th></th>\n",
       "      <th>tpep_pickup_hour</th>\n",
       "      <th>LocationID</th>\n",
       "      <th>Total_Trips</th>\n",
       "      <th>temperature_2m</th>\n",
       "      <th>precipitation</th>\n",
       "      <th>rain</th>\n",
       "      <th>snowfall</th>\n",
       "      <th>snow_depth</th>\n",
       "      <th>wind_speed_10m</th>\n",
       "    </tr>\n",
       "  </thead>\n",
       "  <tbody>\n",
       "    <tr>\n",
       "      <th>0</th>\n",
       "      <td>2022-01-01</td>\n",
       "      <td>4</td>\n",
       "      <td>11.0</td>\n",
       "      <td>8.3005</td>\n",
       "      <td>0.0</td>\n",
       "      <td>0.0</td>\n",
       "      <td>0.0</td>\n",
       "      <td>0.0</td>\n",
       "      <td>3.545589</td>\n",
       "    </tr>\n",
       "    <tr>\n",
       "      <th>1</th>\n",
       "      <td>2022-01-01</td>\n",
       "      <td>12</td>\n",
       "      <td>2.0</td>\n",
       "      <td>8.3005</td>\n",
       "      <td>0.0</td>\n",
       "      <td>0.0</td>\n",
       "      <td>0.0</td>\n",
       "      <td>0.0</td>\n",
       "      <td>3.545589</td>\n",
       "    </tr>\n",
       "    <tr>\n",
       "      <th>2</th>\n",
       "      <td>2022-01-01</td>\n",
       "      <td>13</td>\n",
       "      <td>12.0</td>\n",
       "      <td>8.3005</td>\n",
       "      <td>0.0</td>\n",
       "      <td>0.0</td>\n",
       "      <td>0.0</td>\n",
       "      <td>0.0</td>\n",
       "      <td>3.545589</td>\n",
       "    </tr>\n",
       "    <tr>\n",
       "      <th>3</th>\n",
       "      <td>2022-01-01</td>\n",
       "      <td>24</td>\n",
       "      <td>11.0</td>\n",
       "      <td>8.3005</td>\n",
       "      <td>0.0</td>\n",
       "      <td>0.0</td>\n",
       "      <td>0.0</td>\n",
       "      <td>0.0</td>\n",
       "      <td>3.545589</td>\n",
       "    </tr>\n",
       "    <tr>\n",
       "      <th>4</th>\n",
       "      <td>2022-01-01</td>\n",
       "      <td>41</td>\n",
       "      <td>12.0</td>\n",
       "      <td>8.3005</td>\n",
       "      <td>0.0</td>\n",
       "      <td>0.0</td>\n",
       "      <td>0.0</td>\n",
       "      <td>0.0</td>\n",
       "      <td>3.545589</td>\n",
       "    </tr>\n",
       "  </tbody>\n",
       "</table>\n",
       "</div>"
      ],
      "text/plain": [
       "  tpep_pickup_hour  LocationID  Total_Trips  temperature_2m  precipitation  \\\n",
       "0       2022-01-01           4         11.0          8.3005            0.0   \n",
       "1       2022-01-01          12          2.0          8.3005            0.0   \n",
       "2       2022-01-01          13         12.0          8.3005            0.0   \n",
       "3       2022-01-01          24         11.0          8.3005            0.0   \n",
       "4       2022-01-01          41         12.0          8.3005            0.0   \n",
       "\n",
       "   rain  snowfall  snow_depth  wind_speed_10m  \n",
       "0   0.0       0.0         0.0        3.545589  \n",
       "1   0.0       0.0         0.0        3.545589  \n",
       "2   0.0       0.0         0.0        3.545589  \n",
       "3   0.0       0.0         0.0        3.545589  \n",
       "4   0.0       0.0         0.0        3.545589  "
      ]
     },
     "execution_count": 217,
     "metadata": {},
     "output_type": "execute_result"
    }
   ],
   "source": [
    "final_table.head()"
   ]
  },
  {
   "cell_type": "code",
   "execution_count": 219,
   "id": "b3aeb545-d643-48ae-a19f-fe8bf6eef43d",
   "metadata": {},
   "outputs": [
    {
     "data": {
      "text/plain": [
       "(1866485, 9)"
      ]
     },
     "execution_count": 219,
     "metadata": {},
     "output_type": "execute_result"
    }
   ],
   "source": [
    "final_table.shape"
   ]
  },
  {
   "cell_type": "code",
   "execution_count": 224,
   "id": "9dc2f4fe-63e2-4dce-90c6-bb225dd80cff",
   "metadata": {},
   "outputs": [
    {
     "data": {
      "text/plain": [
       "Total_Trips    16.237044\n",
       "snow_depth      1.864521\n",
       "dtype: float64"
      ]
     },
     "execution_count": 224,
     "metadata": {},
     "output_type": "execute_result"
    }
   ],
   "source": [
    "null_cols = final_table.isnull().sum()/len(final_table)*100\n",
    "null_cols[null_cols !=0]"
   ]
  },
  {
   "cell_type": "code",
   "execution_count": 241,
   "id": "a3a32948-bf13-44c6-a479-2988a97153f6",
   "metadata": {},
   "outputs": [
    {
     "name": "stderr",
     "output_type": "stream",
     "text": [
      "C:\\Users\\Acer\\AppData\\Local\\Temp\\ipykernel_9596\\2794426650.py:1: SettingWithCopyWarning: \n",
      "A value is trying to be set on a copy of a slice from a DataFrame\n",
      "\n",
      "See the caveats in the documentation: https://pandas.pydata.org/pandas-docs/stable/user_guide/indexing.html#returning-a-view-versus-a-copy\n",
      "  final_table[[\"Total_Trips\"]].fillna(0, inplace=True)\n",
      "C:\\Users\\Acer\\AppData\\Local\\Temp\\ipykernel_9596\\2794426650.py:2: SettingWithCopyWarning: \n",
      "A value is trying to be set on a copy of a slice from a DataFrame\n",
      "\n",
      "See the caveats in the documentation: https://pandas.pydata.org/pandas-docs/stable/user_guide/indexing.html#returning-a-view-versus-a-copy\n",
      "  final_table[[\"snow_depth\"]].fillna(0, inplace=True)\n"
     ]
    }
   ],
   "source": [
    "final_table[[\"Total_Trips\"]].fillna(0, inplace=True)"
   ]
  },
  {
   "cell_type": "code",
   "execution_count": 257,
   "id": "1092489f-e6ce-48c0-bb23-6090f44d960a",
   "metadata": {},
   "outputs": [],
   "source": [
    "final_table[\"snow_depth\"] = final_table[\"snow_depth\"].fillna(0)"
   ]
  },
  {
   "cell_type": "code",
   "execution_count": 263,
   "id": "609cda3c-6923-4fee-b0e7-c7bcb1ffb67d",
   "metadata": {},
   "outputs": [
    {
     "data": {
      "text/plain": [
       "Series([], dtype: float64)"
      ]
     },
     "execution_count": 263,
     "metadata": {},
     "output_type": "execute_result"
    }
   ],
   "source": [
    "null_cols = final_table.isnull().sum()/len(final_table)*100\n",
    "null_cols[null_cols !=0]"
   ]
  },
  {
   "cell_type": "code",
   "execution_count": 265,
   "id": "2d89c6c2-9ffa-458d-99b5-8c2f7860428f",
   "metadata": {},
   "outputs": [],
   "source": [
    "final_table.to_parquet(\"data/train_data/trips_weather_merged.parquet\")"
   ]
  },
  {
   "cell_type": "code",
   "execution_count": 267,
   "id": "7e5ebf89-3051-47b2-9dac-eb59d2427082",
   "metadata": {},
   "outputs": [
    {
     "data": {
      "text/plain": [
       "(1563424, 3)"
      ]
     },
     "execution_count": 267,
     "metadata": {},
     "output_type": "execute_result"
    }
   ],
   "source": [
    "pd.read_parquet(\"data/merged_dataset.parquet\").shape"
   ]
  },
  {
   "cell_type": "code",
   "execution_count": null,
   "id": "ebc33c24-8fab-48c9-a9c6-6f86eb1cfd26",
   "metadata": {},
   "outputs": [],
   "source": []
  }
 ],
 "metadata": {
  "kernelspec": {
   "display_name": "Python 3 (ipykernel)",
   "language": "python",
   "name": "python3"
  },
  "language_info": {
   "codemirror_mode": {
    "name": "ipython",
    "version": 3
   },
   "file_extension": ".py",
   "mimetype": "text/x-python",
   "name": "python",
   "nbconvert_exporter": "python",
   "pygments_lexer": "ipython3",
   "version": "3.12.7"
  }
 },
 "nbformat": 4,
 "nbformat_minor": 5
}
